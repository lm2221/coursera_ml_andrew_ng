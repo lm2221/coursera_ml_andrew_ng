{
 "cells": [
  {
   "cell_type": "code",
   "execution_count": 258,
   "metadata": {},
   "outputs": [],
   "source": [
    "import numpy as np\n",
    "import pandas as pd\n",
    "\n",
    "import matplotlib\n",
    "import numpy as np\n",
    "import matplotlib.pyplot as plt\n",
    "%matplotlib inline  \n",
    "\n",
    "import seaborn as sns\n",
    "\n",
    "from sklearn.metrics import r2_score\n",
    "from sklearn.linear_model import LinearRegression"
   ]
  },
  {
   "cell_type": "code",
   "execution_count": 325,
   "metadata": {},
   "outputs": [],
   "source": [
    "# Data in one dimension\n",
    "df = pd.read_csv('ex1data1.txt', names=['X', 'y'])"
   ]
  },
  {
   "cell_type": "code",
   "execution_count": 326,
   "metadata": {},
   "outputs": [
    {
     "data": {
      "text/plain": [
       "Text(0.5, 1.0, 'Profit Vs. Population')"
      ]
     },
     "execution_count": 326,
     "metadata": {},
     "output_type": "execute_result"
    },
    {
     "data": {
      "image/png": "[encoded data removed]",
      "text/plain": [
       "<Figure size 432x288 with 1 Axes>"
      ]
     },
     "metadata": {
      "needs_background": "light"
     },
     "output_type": "display_data"
    }
   ],
   "source": [
    "sns.scatterplot(df['X'],df['y'])\n",
    "plt.xlabel(\"Population of City in 10,000s\")\n",
    "plt.ylabel(\"Profit $10,000s\")\n",
    "plt.title(\"Profit Vs. Population\")"
   ]
  },
  {
   "cell_type": "code",
   "execution_count": 1003,
   "metadata": {},
   "outputs": [],
   "source": [
    "def featureNormalization(X):\n",
    "    \n",
    "    mean=np.mean(X,axis=0)\n",
    "    std=np.std(X,axis=0)\n",
    "    \n",
    "    X_norm = (X - mean)/std\n",
    "    \n",
    "    return X_norm , mean , std\n",
    "\n",
    "\n",
    "class LinearRegression_lm:\n",
    "    def __init__(self, iters, alpha, normalize=False):\n",
    "        \n",
    "        self.iters = iters\n",
    "        self.alpha = alpha\n",
    "        self.J_history = []\n",
    "        self.normalize = normalize\n",
    "          \n",
    "    def fit(self, X, y):\n",
    "        \n",
    "        try:\n",
    "            self.m = X.shape[1]\n",
    "            self.n = X.shape[0]\n",
    "        except:\n",
    "            self.m = 1\n",
    "            self.n = len(y)\n",
    "\n",
    "        if self.normalize == True:\n",
    "            X, _, _ = featureNormalization(np.array(X))\n",
    "        else:\n",
    "            X = np.array(X)\n",
    "            \n",
    "            \n",
    "        X = np.array(X).reshape(self.n, self.m)\n",
    "        X0 = np.ones((self.n, 1))\n",
    "        self.X = np.hstack((X0, X))\n",
    "        self.y = np.array(y).reshape(self.n, 1)\n",
    "    \n",
    "        self.theta = np.zeros((self.m+1,1))\n",
    "        \n",
    "        for i in range(self.iters): \n",
    "            self.gradientDescent()\n",
    "            objective = self.computeCost()\n",
    "            self.J_history.append(objective)\n",
    "            \n",
    "    def computeCost(self):\n",
    "        \n",
    "        y_hat = self.X.dot(self.theta) # evaluate\n",
    "        square_err = (y_hat - self.y)**2\n",
    "        return 1/(2*self.m)*np.sum(square_err)\n",
    "    \n",
    "    def gradientDescent(self):\n",
    "        \n",
    "        preds = self.X.dot(self.theta)\n",
    "        errors = np.dot(self.X.transpose(), (preds - self.y))\n",
    "        self.theta -= self.alpha * 1/(self.n) * errors\n",
    "        \n",
    "    def pred(self, X):\n",
    "        \n",
    "        n = 1\n",
    "        try:\n",
    "            X = np.array(X).reshape(n, self.m)\n",
    "            X0 = np.ones((n,1))\n",
    "        \n",
    "        except:\n",
    "            X = np.array(X).reshape(self.n, self.m)\n",
    "            X0 = np.ones((self.n,1))\n",
    "\n",
    "        \n",
    "        X = np.hstack((X0, X))\n",
    "        return X.dot(self.theta)\n",
    "  "
   ]
  },
  {
   "cell_type": "code",
   "execution_count": 1006,
   "metadata": {},
   "outputs": [
    {
     "name": "stdout",
     "output_type": "stream",
     "text": [
      "theta: [[-3.63029144]\n",
      " [ 1.16636235]]\n",
      "r2: 0.7016044731117159\n"
     ]
    }
   ],
   "source": [
    "lr_lm = LinearRegression_lm(1500, 0.01)\n",
    "lr_lm.fit(df['X'], df['y'])\n",
    "\n",
    "print('theta:', lr_lm.theta)\n",
    "print('r2:', r2_score(df['y'], df['pred']))"
   ]
  },
  {
   "cell_type": "markdown",
   "metadata": {},
   "source": [
    "# sklearn comparison"
   ]
  },
  {
   "cell_type": "code",
   "execution_count": 1002,
   "metadata": {},
   "outputs": [
    {
     "name": "stdout",
     "output_type": "stream",
     "text": [
      "intercept: -3.89578087831185\n",
      "coef: 1.1930336441895935\n",
      "r2 score: 0.7020315537841397\n"
     ]
    }
   ],
   "source": [
    "lr = LinearRegression()\n",
    "\n",
    "X = np.array(df['X']).reshape(len(df['X']), 1)\n",
    "y = np.array(df['y']).reshape(len(df['y']), 1)\n",
    "lr.fit(X, y)\n",
    "\n",
    "print('intercept:', lr.intercept_[0])\n",
    "print('coef:', lr.coef_[0][0])\n",
    "\n",
    "df['pred2'] = lr.predict(X)\n",
    "print('r2 score:', r2_score(df['y'], df['pred2']))\n"
   ]
  },
  {
   "cell_type": "markdown",
   "metadata": {},
   "source": [
    "### Predictions"
   ]
  },
  {
   "cell_type": "code",
   "execution_count": 1008,
   "metadata": {},
   "outputs": [
    {
     "name": "stdout",
     "output_type": "stream",
     "text": [
      "3.5= [[0.45197679]]\n",
      "7= [[4.53424501]]\n"
     ]
    }
   ],
   "source": [
    "print('3.5=', lr_lm.pred([3.5]))\n",
    "print('7=', lr_lm.pred([7]))"
   ]
  },
  {
   "cell_type": "code",
   "execution_count": 1009,
   "metadata": {},
   "outputs": [
    {
     "data": {
      "text/plain": [
       "Text(0.5, 1.0, 'Cost function using Gradient Descent')"
      ]
     },
     "execution_count": 1009,
     "metadata": {},
     "output_type": "execute_result"
    },
    {
     "data": {
      "image/png": "[encoded data removed]",
      "text/plain": [
       "<Figure size 432x288 with 1 Axes>"
      ]
     },
     "metadata": {
      "needs_background": "light"
     },
     "output_type": "display_data"
    }
   ],
   "source": [
    "sns.lineplot(range(len(lr_lm.J_history)), lr_lm.J_history)\n",
    "plt.xlabel(\"Iteration\")\n",
    "plt.ylabel(\"$J(\\Theta)$\")\n",
    "plt.title(\"Cost function using Gradient Descent\")"
   ]
  },
  {
   "cell_type": "code",
   "execution_count": 1011,
   "metadata": {},
   "outputs": [
    {
     "data": {
      "text/plain": [
       "<matplotlib.axes._subplots.AxesSubplot at 0x1a2a079a58>"
      ]
     },
     "execution_count": 1011,
     "metadata": {},
     "output_type": "execute_result"
    },
    {
     "data": {
      "image/png": "[encoded data removed]",
      "text/plain": [
       "<Figure size 432x288 with 1 Axes>"
      ]
     },
     "metadata": {
      "needs_background": "light"
     },
     "output_type": "display_data"
    }
   ],
   "source": [
    "sns.scatterplot(df['X'],df['y'], label='data')\n",
    "plt.xlabel(\"Population of City in 10,000s\")\n",
    "plt.ylabel(\"Profit $10,000s\")\n",
    "plt.title(\"Profit Vs. Population\")\n",
    "\n",
    "df['pred'] = lr_lm.pred(df['X'])\n",
    "sns.lineplot(df['X'], df['pred'], color='red', label='LinearRegession')"
   ]
  },
  {
   "cell_type": "code",
   "execution_count": 1012,
   "metadata": {},
   "outputs": [
    {
     "data": {
      "text/html": [
       "<div>\n",
       "<style scoped>\n",
       "    .dataframe tbody tr th:only-of-type {\n",
       "        vertical-align: middle;\n",
       "    }\n",
       "\n",
       "    .dataframe tbody tr th {\n",
       "        vertical-align: top;\n",
       "    }\n",
       "\n",
       "    .dataframe thead th {\n",
       "        text-align: right;\n",
       "    }\n",
       "</style>\n",
       "<table border=\"1\" class=\"dataframe\">\n",
       "  <thead>\n",
       "    <tr style=\"text-align: right;\">\n",
       "      <th></th>\n",
       "      <th>X</th>\n",
       "      <th>y</th>\n",
       "      <th>pred</th>\n",
       "      <th>pred2</th>\n",
       "    </tr>\n",
       "  </thead>\n",
       "  <tbody>\n",
       "    <tr>\n",
       "      <th>0</th>\n",
       "      <td>6.1101</td>\n",
       "      <td>17.5920</td>\n",
       "      <td>3.496299</td>\n",
       "      <td>3.393774</td>\n",
       "    </tr>\n",
       "    <tr>\n",
       "      <th>1</th>\n",
       "      <td>5.5277</td>\n",
       "      <td>9.1302</td>\n",
       "      <td>2.817010</td>\n",
       "      <td>2.698951</td>\n",
       "    </tr>\n",
       "    <tr>\n",
       "      <th>2</th>\n",
       "      <td>8.5186</td>\n",
       "      <td>13.6620</td>\n",
       "      <td>6.305483</td>\n",
       "      <td>6.267196</td>\n",
       "    </tr>\n",
       "    <tr>\n",
       "      <th>3</th>\n",
       "      <td>7.0032</td>\n",
       "      <td>11.8540</td>\n",
       "      <td>4.537977</td>\n",
       "      <td>4.459272</td>\n",
       "    </tr>\n",
       "    <tr>\n",
       "      <th>4</th>\n",
       "      <td>5.8598</td>\n",
       "      <td>6.8233</td>\n",
       "      <td>3.204359</td>\n",
       "      <td>3.095158</td>\n",
       "    </tr>\n",
       "  </tbody>\n",
       "</table>\n",
       "</div>"
      ],
      "text/plain": [
       "        X        y      pred     pred2\n",
       "0  6.1101  17.5920  3.496299  3.393774\n",
       "1  5.5277   9.1302  2.817010  2.698951\n",
       "2  8.5186  13.6620  6.305483  6.267196\n",
       "3  7.0032  11.8540  4.537977  4.459272\n",
       "4  5.8598   6.8233  3.204359  3.095158"
      ]
     },
     "execution_count": 1012,
     "metadata": {},
     "output_type": "execute_result"
    }
   ],
   "source": [
    "df.head()"
   ]
  },
  {
   "cell_type": "code",
   "execution_count": 1013,
   "metadata": {},
   "outputs": [],
   "source": [
    "df2 = pd.read_csv('ex1data2.txt', names=['1', '2', '3'])"
   ]
  },
  {
   "cell_type": "code",
   "execution_count": 1015,
   "metadata": {},
   "outputs": [],
   "source": [
    "lr2 = LinearRegression_lm(400, 0.01, normalize=True)\n",
    "lr2.fit(df2[['1', '2']], df2['3'])"
   ]
  },
  {
   "cell_type": "code",
   "execution_count": 1016,
   "metadata": {},
   "outputs": [
    {
     "data": {
      "text/plain": [
       "Text(0.5, 1.0, 'Cost function using Gradient Descent')"
      ]
     },
     "execution_count": 1016,
     "metadata": {},
     "output_type": "execute_result"
    },
    {
     "data": {
      "image/png": "[encoded data removed]",
      "text/plain": [
       "<Figure size 432x288 with 1 Axes>"
      ]
     },
     "metadata": {
      "needs_background": "light"
     },
     "output_type": "display_data"
    }
   ],
   "source": [
    "sns.lineplot(range(len(lr2.J_history)), lr2.J_history)\n",
    "plt.xlabel(\"Iteration\")\n",
    "plt.ylabel(\"$J(\\Theta)$\")\n",
    "plt.title(\"Cost function using Gradient Descent\")\n"
   ]
  },
  {
   "cell_type": "code",
   "execution_count": 1017,
   "metadata": {},
   "outputs": [
    {
     "data": {
      "text/plain": [
       "array([[334302.06399328],\n",
       "       [ 99411.44947359],\n",
       "       [  3267.01285407]])"
      ]
     },
     "execution_count": 1017,
     "metadata": {},
     "output_type": "execute_result"
    }
   ],
   "source": [
    "lr2.theta"
   ]
  },
  {
   "cell_type": "code",
   "execution_count": 1018,
   "metadata": {},
   "outputs": [
    {
     "name": "stdout",
     "output_type": "stream",
     "text": [
      "430446.5\n"
     ]
    }
   ],
   "source": [
    "x_sample, _, _ = featureNormalization(np.array([1650,3]))\n",
    "predict3=lr2.pred(x_sample)\n",
    "print(round(predict3[0][0],1))"
   ]
  },
  {
   "cell_type": "code",
   "execution_count": null,
   "metadata": {},
   "outputs": [],
   "source": []
  },
  {
   "cell_type": "code",
   "execution_count": null,
   "metadata": {},
   "outputs": [],
   "source": []
  }
 ],
 "metadata": {
  "kernelspec": {
   "display_name": "Python 3",
   "language": "python",
   "name": "python3"
  },
  "language_info": {
   "codemirror_mode": {
    "name": "ipython",
    "version": 3
   },
   "file_extension": ".py",
   "mimetype": "text/x-python",
   "name": "python",
   "nbconvert_exporter": "python",
   "pygments_lexer": "ipython3",
   "version": "3.7.1"
  }
 },
 "nbformat": 4,
 "nbformat_minor": 2
}
